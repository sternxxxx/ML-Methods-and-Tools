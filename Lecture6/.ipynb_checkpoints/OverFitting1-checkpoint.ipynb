{
 "cells": [
  {
   "cell_type": "markdown",
   "metadata": {},
   "source": [
    "# Overfitting and Regularization"
   ]
  },
  {
   "cell_type": "markdown",
   "metadata": {},
   "source": [
    "The fundamental issue in machine learning is the tension between optimization and generalization. \"Optimization\" refers to the process of adjusting a model to get the best performance possible on the training data, while \"generalization\" refers to how well the trained model would perform on data it has never seen before. The goal of the game is to get good generalization, of course, but you do not control generalization; you can only adjust the model based on its training data.\n",
    "\n",
    "At the beginning of training, optimization and generalization are correlated: the lower your loss on training data, the lower your loss on test data. While this is happening, your model is said to be under-fit: there is still progress to be made; the network hasn't yet modeled all relevant patterns in the training data. But after a certain number of iterations on the training data, generalization stops improving, validation metrics stall then start degrading: the model is then starting to over-fit, i.e. is it starting to learn patterns that are specific to the training data but that are misleading or irrelevant when it comes to new data.\n",
    "\n",
    "To prevent a model from learning misleading or irrelevant patterns found in the training data, the best solution is of course to get more training data. A model trained on more data will naturally generalize better. When that is no longer possible, the next best solution is to modulate the quantity of information that your model is allowed to store, or to add constraints on what information it is allowed to store. If a network can only afford to memorize a small number of patterns, the optimization process will force it to focus on the most prominent patterns, which have a better chance of generalizing well.\n",
    "\n",
    "The processing of fighting overfitting in this way is called regularization. Let's review some of the most common regularization techniques, and let's apply them in practice to improve our movie classification model from the previous chapter.\n",
    "\n",
    "In this Notebook we will be using the IMDB Dataset to explore some of the possible techniques to deal with overfitting."
   ]
  },
  {
   "cell_type": "markdown",
   "metadata": {},
   "source": [
    "As first thing, we import Keras package:"
   ]
  },
  {
   "cell_type": "markdown",
   "metadata": {},
   "source": [
    "** Import Keras and check the version.**"
   ]
  },
  {
   "cell_type": "code",
   "execution_count": null,
   "metadata": {},
   "outputs": [],
   "source": [
    "import keras\n",
    "print(keras.__version__)\n",
    "from keras import models\n",
    "from keras import layers"
   ]
  },
  {
   "cell_type": "markdown",
   "metadata": {},
   "source": [
    "## Get the Data"
   ]
  },
  {
   "cell_type": "code",
   "execution_count": null,
   "metadata": {},
   "outputs": [],
   "source": [
    "from keras.datasets import imdb\n",
    "import numpy as np\n",
    "\n",
    "(train_data, train_labels), (test_data, test_labels) = imdb.load_data(num_words=10000)\n",
    "\n",
    "def vectorize_sequences(sequences, dimension=10000):\n",
    "    # Create an all-zero matrix of shape (len(sequences), dimension)\n",
    "    results = np.zeros((len(sequences), dimension))\n",
    "    for i, sequence in enumerate(sequences):\n",
    "        results[i, sequence] = 1.  # set specific indices of results[i] to 1s\n",
    "    return results\n",
    "\n",
    "# Our vectorized training data\n",
    "x_train = vectorize_sequences(train_data)\n",
    "# Our vectorized test data\n",
    "x_test = vectorize_sequences(test_data)\n",
    "# Our vectorized labels\n",
    "y_train = np.asarray(train_labels).astype('float32')\n",
    "y_test = np.asarray(test_labels).astype('float32')"
   ]
  },
  {
   "cell_type": "markdown",
   "metadata": {},
   "source": [
    "## Overfitting\n",
    "### Reducing the Network's size"
   ]
  },
  {
   "cell_type": "markdown",
   "metadata": {},
   "source": [
    "The simplest way to prevent overfitting is to reduce the size of the model, i.e. the number of learnable parameters in the model (which is determined by the number of layers and the number of units per layer). In deep learning, the number of learnable parameters in a model is often referred to as the model's \"capacity\". Intuitively, a model with more parameters will have more \"memorization capacity\" and therefore will be able to easily learn a perfect dictionary-like mapping between training samples and their targets, a mapping without any generalization power. For instance, a model with 500,000 binary parameters could easily be made to learn the class of every digits in the MNIST training set: we would only need 10 binary parameters for each of the 50,000 digits. Such a model would be useless for classifying new digit samples. Always keep this in mind: deep learning models tend to be good at fitting to the training data, but the real challenge is generalization, not fitting.\n",
    "\n",
    "On the other hand, if the network has limited memorization resources, it will not be able to learn this mapping as easily, and thus, in order to minimize its loss, it will have to resort to learning compressed representations that have predictive power regarding the targets -- precisely the type of representations that we are interested in. At the same time, keep in mind that you should be using models that have enough parameters that they won't be underfitting: your model shouldn't be starved for memorization resources. There is a compromise to be found between \"too much capacity\" and \"not enough capacity\".\n",
    "\n",
    "Unfortunately, there is no magical formula to determine what the right number of layers is, or what the right size for each layer is. You will have to evaluate an array of different architectures (on your validation set, not on your test set, of course) in order to find the right model size for your data. The general workflow to find an appropriate model size is to start with relatively few layers and parameters, and start increasing the size of the layers or adding new layers until you see diminishing returns with regard to the validation loss.\n",
    "\n",
    "Let's try this on our movie review classification network. Our original network was as such:"
   ]
  },
  {
   "cell_type": "markdown",
   "metadata": {},
   "source": [
    "** Create the following network (call it `original_model`). **"
   ]
  },
  {
   "cell_type": "markdown",
   "metadata": {},
   "source": [
    "- Dense layer with 16 hidden units and an activation function;\n",
    "- Dense layer with 16 hidden units and an activation function;\n",
    "- Dense layer output with an activation function;"
   ]
  },
  {
   "cell_type": "code",
   "execution_count": 3,
   "metadata": {},
   "outputs": [],
   "source": [
    "input_num_units = 16\n",
    "hidden_num_units = 16\n",
    "output_num_units = 1\n",
    "original_model = models.Sequential()\n",
    "original_model.add(layers.Dense(input_num_units, activation='relu'))\n",
    "original_model.add(layers.Dense(hidden_num_units, activation='relu'))\n",
    "original_model.add(layers.Dense(output_num_units, activation='sigmoid'))"
   ]
  },
  {
   "cell_type": "markdown",
   "metadata": {},
   "source": [
    "**Compile the model.**"
   ]
  },
  {
   "cell_type": "code",
   "execution_count": 16,
   "metadata": {},
   "outputs": [],
   "source": [
    "original_model.compile(optimizer='adam',\n",
    "                loss='binary_crossentropy',\n",
    "                metrics=['accuracy'])"
   ]
  },
  {
   "cell_type": "markdown",
   "metadata": {},
   "source": [
    "** Now replace it with a smaller network (call it `smaller_model`), with less hidden units instead of 16 and compile it. Be sure to use the same optimizer and loss function of the `original_model`.**"
   ]
  },
  {
   "cell_type": "code",
   "execution_count": 17,
   "metadata": {},
   "outputs": [],
   "source": [
    "input_num_units = 8\n",
    "hidden_num_units = 8\n",
    "smaller_model = models.Sequential()\n",
    "smaller_model.add(layers.Dense(input_num_units, activation='relu'))\n",
    "smaller_model.add(layers.Dense(hidden_num_units, activation='relu'))\n",
    "smaller_model.add(layers.Dense(output_num_units, activation='sigmoid'))\n",
    "\n",
    "smaller_model.compile(optimizer='adam',\n",
    "                loss='binary_crossentropy',\n",
    "                metrics=['accuracy'])"
   ]
  },
  {
   "cell_type": "markdown",
   "metadata": {},
   "source": [
    "** Fit the original model with 20 epochs and batch size 512. Use x_test and y_test for validation data.**"
   ]
  },
  {
   "cell_type": "code",
   "execution_count": 18,
   "metadata": {},
   "outputs": [
    {
     "name": "stdout",
     "output_type": "stream",
     "text": [
      "Train on 25000 samples, validate on 25000 samples\n",
      "Epoch 1/20\n",
      "25000/25000 [==============================] - 2s 76us/step - loss: 0.2499 - acc: 0.8994 - val_loss: 0.2865 - val_acc: 0.8839\n",
      "Epoch 2/20\n",
      "25000/25000 [==============================] - 2s 69us/step - loss: 0.1741 - acc: 0.9387 - val_loss: 0.2960 - val_acc: 0.8831\n",
      "Epoch 3/20\n",
      "25000/25000 [==============================] - 2s 63us/step - loss: 0.1355 - acc: 0.9553 - val_loss: 0.3180 - val_acc: 0.8776\n",
      "Epoch 4/20\n",
      "25000/25000 [==============================] - 2s 63us/step - loss: 0.1026 - acc: 0.9691 - val_loss: 0.3475 - val_acc: 0.8738\n",
      "Epoch 5/20\n",
      "25000/25000 [==============================] - 2s 61us/step - loss: 0.0733 - acc: 0.9810 - val_loss: 0.3821 - val_acc: 0.8704\n",
      "Epoch 6/20\n",
      "25000/25000 [==============================] - 2s 66us/step - loss: 0.0498 - acc: 0.9897 - val_loss: 0.4246 - val_acc: 0.8661\n",
      "Epoch 7/20\n",
      "25000/25000 [==============================] - 2s 65us/step - loss: 0.0314 - acc: 0.9954 - val_loss: 0.4620 - val_acc: 0.8637\n",
      "Epoch 8/20\n",
      "25000/25000 [==============================] - 2s 70us/step - loss: 0.0199 - acc: 0.9980 - val_loss: 0.5028 - val_acc: 0.8623\n",
      "Epoch 9/20\n",
      "25000/25000 [==============================] - 2s 67us/step - loss: 0.0122 - acc: 0.9992 - val_loss: 0.5335 - val_acc: 0.8627\n",
      "Epoch 10/20\n",
      "25000/25000 [==============================] - 2s 64us/step - loss: 0.0078 - acc: 0.9998 - val_loss: 0.5655 - val_acc: 0.8624\n",
      "Epoch 11/20\n",
      "25000/25000 [==============================] - 2s 67us/step - loss: 0.0053 - acc: 0.9998 - val_loss: 0.5897 - val_acc: 0.8625\n",
      "Epoch 12/20\n",
      "25000/25000 [==============================] - 2s 65us/step - loss: 0.0039 - acc: 1.0000 - val_loss: 0.6147 - val_acc: 0.8626\n",
      "Epoch 13/20\n",
      "25000/25000 [==============================] - 2s 72us/step - loss: 0.0030 - acc: 1.0000 - val_loss: 0.6357 - val_acc: 0.8621\n",
      "Epoch 14/20\n",
      "25000/25000 [==============================] - 1s 58us/step - loss: 0.0024 - acc: 1.0000 - val_loss: 0.6514 - val_acc: 0.8621\n",
      "Epoch 15/20\n",
      "25000/25000 [==============================] - 2s 68us/step - loss: 0.0019 - acc: 1.0000 - val_loss: 0.6717 - val_acc: 0.8619\n",
      "Epoch 16/20\n",
      "25000/25000 [==============================] - 2s 66us/step - loss: 0.0015 - acc: 1.0000 - val_loss: 0.6922 - val_acc: 0.8617\n",
      "Epoch 17/20\n",
      "25000/25000 [==============================] - 2s 70us/step - loss: 0.0012 - acc: 1.0000 - val_loss: 0.7171 - val_acc: 0.8613\n",
      "Epoch 18/20\n",
      "25000/25000 [==============================] - 2s 71us/step - loss: 9.2751e-04 - acc: 1.0000 - val_loss: 0.7388 - val_acc: 0.8614\n",
      "Epoch 19/20\n",
      "25000/25000 [==============================] - 2s 74us/step - loss: 7.3554e-04 - acc: 1.0000 - val_loss: 0.7608 - val_acc: 0.8616\n",
      "Epoch 20/20\n",
      "25000/25000 [==============================] - 2s 74us/step - loss: 5.9317e-04 - acc: 1.0000 - val_loss: 0.7794 - val_acc: 0.8614\n"
     ]
    }
   ],
   "source": [
    "hist_original = original_model.fit(x_train, y_train, batch_size = 512, epochs = 20, validation_data = (x_test, y_test))"
   ]
  },
  {
   "cell_type": "markdown",
   "metadata": {},
   "source": [
    "** Fit the smaller model with 20 epochs and batch size 512. Use x_test and y_test for validation data.**"
   ]
  },
  {
   "cell_type": "code",
   "execution_count": 19,
   "metadata": {},
   "outputs": [
    {
     "name": "stdout",
     "output_type": "stream",
     "text": [
      "Train on 25000 samples, validate on 25000 samples\n",
      "Epoch 1/20\n",
      "25000/25000 [==============================] - 2s 84us/step - loss: 0.5844 - acc: 0.6790 - val_loss: 0.5098 - val_acc: 0.8122\n",
      "Epoch 2/20\n",
      "25000/25000 [==============================] - 2s 71us/step - loss: 0.4494 - acc: 0.8752 - val_loss: 0.4410 - val_acc: 0.8676\n",
      "Epoch 3/20\n",
      "25000/25000 [==============================] - 2s 68us/step - loss: 0.3269 - acc: 0.9235 - val_loss: 0.3041 - val_acc: 0.8844\n",
      "Epoch 4/20\n",
      "25000/25000 [==============================] - 2s 85us/step - loss: 0.1918 - acc: 0.9398 - val_loss: 0.2906 - val_acc: 0.8836\n",
      "Epoch 5/20\n",
      "25000/25000 [==============================] - 2s 86us/step - loss: 0.1458 - acc: 0.9530 - val_loss: 0.3160 - val_acc: 0.8784\n",
      "Epoch 6/20\n",
      "25000/25000 [==============================] - 2s 84us/step - loss: 0.1151 - acc: 0.9645 - val_loss: 0.3351 - val_acc: 0.8754\n",
      "Epoch 7/20\n",
      "25000/25000 [==============================] - 2s 85us/step - loss: 0.0910 - acc: 0.9743 - val_loss: 0.3607 - val_acc: 0.8722\n",
      "Epoch 8/20\n",
      "25000/25000 [==============================] - 2s 76us/step - loss: 0.0720 - acc: 0.9815 - val_loss: 0.3951 - val_acc: 0.8693\n",
      "Epoch 9/20\n",
      "25000/25000 [==============================] - 2s 65us/step - loss: 0.0560 - acc: 0.9882 - val_loss: 0.4236 - val_acc: 0.8670\n",
      "Epoch 10/20\n",
      "25000/25000 [==============================] - 2s 87us/step - loss: 0.0439 - acc: 0.9918 - val_loss: 0.4494 - val_acc: 0.8657\n",
      "Epoch 11/20\n",
      "25000/25000 [==============================] - 2s 85us/step - loss: 0.0343 - acc: 0.9947 - val_loss: 0.4847 - val_acc: 0.8642\n",
      "Epoch 12/20\n",
      "25000/25000 [==============================] - 2s 90us/step - loss: 0.0270 - acc: 0.9966 - val_loss: 0.5159 - val_acc: 0.8625\n",
      "Epoch 13/20\n",
      "25000/25000 [==============================] - 2s 71us/step - loss: 0.0212 - acc: 0.9978 - val_loss: 0.5455 - val_acc: 0.8610\n",
      "Epoch 14/20\n",
      "25000/25000 [==============================] - 2s 86us/step - loss: 0.0169 - acc: 0.9986 - val_loss: 0.5747 - val_acc: 0.8607\n",
      "Epoch 15/20\n",
      "25000/25000 [==============================] - 2s 78us/step - loss: 0.0137 - acc: 0.9991 - val_loss: 0.5961 - val_acc: 0.8607\n",
      "Epoch 16/20\n",
      "25000/25000 [==============================] - 2s 99us/step - loss: 0.0113 - acc: 0.9994 - val_loss: 0.6252 - val_acc: 0.8594\n",
      "Epoch 17/20\n",
      "25000/25000 [==============================] - 2s 88us/step - loss: 0.0094 - acc: 0.9994 - val_loss: 0.6433 - val_acc: 0.8594\n",
      "Epoch 18/20\n",
      "25000/25000 [==============================] - 2s 83us/step - loss: 0.0078 - acc: 0.9996 - val_loss: 0.6691 - val_acc: 0.8584\n",
      "Epoch 19/20\n",
      "25000/25000 [==============================] - 2s 84us/step - loss: 0.0065 - acc: 0.9996 - val_loss: 0.6804 - val_acc: 0.8582\n",
      "Epoch 20/20\n",
      "25000/25000 [==============================] - 2s 88us/step - loss: 0.0055 - acc: 0.9998 - val_loss: 0.7016 - val_acc: 0.8579\n"
     ]
    }
   ],
   "source": [
    "hist_smaller = smaller_model.fit(x_train, y_train, batch_size = 512, epochs = 20, validation_data = (x_test, y_test))"
   ]
  },
  {
   "cell_type": "markdown",
   "metadata": {},
   "source": [
    "** Compare the smaller model with the original one. Fill in the #TO DOs. **"
   ]
  },
  {
   "cell_type": "code",
   "execution_count": 20,
   "metadata": {},
   "outputs": [],
   "source": [
    "epochs = range(1, 21)\n",
    "original_val_loss = hist_original.history['val_loss']#TO DO: take from the history dictionary of the original model the validation loss\n",
    "smaller_model_val_loss = hist_smaller.history['val_loss']#TO DO: take from the history dictionary of the smaller model the validation loss"
   ]
  },
  {
   "cell_type": "code",
   "execution_count": 22,
   "metadata": {},
   "outputs": [
    {
     "data": {
      "image/png": "[encoded data removed]",
      "text/plain": [
       "<Figure size 432x288 with 1 Axes>"
      ]
     },
     "metadata": {
      "needs_background": "light"
     },
     "output_type": "display_data"
    }
   ],
   "source": [
    "import matplotlib.pyplot as plt\n",
    "\n",
    "# b+ is for \"blue cross\"\n",
    "plt.plot(epochs, original_val_loss, 'b+', label='Original model') \n",
    "# \"bo\" is for \"blue dot\"\n",
    "plt.plot(epochs, smaller_model_val_loss, 'bo', label='Smaller model') \n",
    "plt.xlabel('Epochs')\n",
    "plt.ylabel('Validation loss')\n",
    "plt.legend()\n",
    "\n",
    "plt.show()"
   ]
  },
  {
   "cell_type": "markdown",
   "metadata": {},
   "source": [
    "Here's a comparison of the validation losses of the original network and the smaller network. The dots are the validation loss values of the smaller network, and the crosses are the initial network."
   ]
  },
  {
   "cell_type": "markdown",
   "metadata": {},
   "source": [
    "** Considerations: what can you conclude from these results? Which of the two network starts to overfitting later? How are their performances? **"
   ]
  },
  {
   "cell_type": "markdown",
   "metadata": {},
   "source": []
  },
  {
   "cell_type": "markdown",
   "metadata": {},
   "source": [
    "Now, let's add to this benchmark a network that has much more capacity (far more than the problem would warrant)."
   ]
  },
  {
   "cell_type": "markdown",
   "metadata": {},
   "source": [
    "** Create a bigger network with moe than 16 hidden units (call it `bigger_model`) and compile it. **"
   ]
  },
  {
   "cell_type": "code",
   "execution_count": 23,
   "metadata": {},
   "outputs": [],
   "source": [
    "input_num_units = 32\n",
    "hidden_num_units = 32\n",
    "bigger_model = models.Sequential()\n",
    "bigger_model.add(layers.Dense(input_num_units, activation='relu'))\n",
    "bigger_model.add(layers.Dense(hidden_num_units, activation='relu'))\n",
    "bigger_model.add(layers.Dense(output_num_units, activation='sigmoid'))\n",
    "\n",
    "bigger_model.compile(optimizer='adam',\n",
    "                loss='binary_crossentropy',\n",
    "                metrics=['accuracy'])"
   ]
  },
  {
   "cell_type": "markdown",
   "metadata": {},
   "source": [
    "** Fit the model with 20 epochs and batch of size 512.**"
   ]
  },
  {
   "cell_type": "code",
   "execution_count": 24,
   "metadata": {},
   "outputs": [
    {
     "name": "stdout",
     "output_type": "stream",
     "text": [
      "Train on 25000 samples, validate on 25000 samples\n",
      "Epoch 1/20\n",
      "25000/25000 [==============================] - 2s 99us/step - loss: 0.4620 - acc: 0.8131 - val_loss: 0.3073 - val_acc: 0.8822\n",
      "Epoch 2/20\n",
      "25000/25000 [==============================] - 2s 73us/step - loss: 0.2231 - acc: 0.9177 - val_loss: 0.2839 - val_acc: 0.8875\n",
      "Epoch 3/20\n",
      "25000/25000 [==============================] - 2s 76us/step - loss: 0.1600 - acc: 0.9432 - val_loss: 0.3204 - val_acc: 0.8764\n",
      "Epoch 4/20\n",
      "25000/25000 [==============================] - 2s 74us/step - loss: 0.1246 - acc: 0.9573 - val_loss: 0.3501 - val_acc: 0.8736\n",
      "Epoch 5/20\n",
      "25000/25000 [==============================] - 2s 82us/step - loss: 0.0998 - acc: 0.9665 - val_loss: 0.4067 - val_acc: 0.8654\n",
      "Epoch 6/20\n",
      "25000/25000 [==============================] - 2s 87us/step - loss: 0.0757 - acc: 0.9761 - val_loss: 0.4577 - val_acc: 0.8606\n",
      "Epoch 7/20\n",
      "25000/25000 [==============================] - 2s 71us/step - loss: 0.0540 - acc: 0.9861 - val_loss: 0.5095 - val_acc: 0.8588\n",
      "Epoch 8/20\n",
      "25000/25000 [==============================] - 2s 66us/step - loss: 0.0359 - acc: 0.9924 - val_loss: 0.5698 - val_acc: 0.8564\n",
      "Epoch 9/20\n",
      "25000/25000 [==============================] - 2s 73us/step - loss: 0.0221 - acc: 0.9964 - val_loss: 0.6226 - val_acc: 0.8550\n",
      "Epoch 10/20\n",
      "25000/25000 [==============================] - 2s 76us/step - loss: 0.0130 - acc: 0.9988 - val_loss: 0.6904 - val_acc: 0.8526\n",
      "Epoch 11/20\n",
      "25000/25000 [==============================] - 2s 79us/step - loss: 0.0072 - acc: 0.9997 - val_loss: 0.7333 - val_acc: 0.8534\n",
      "Epoch 12/20\n",
      "25000/25000 [==============================] - 2s 90us/step - loss: 0.0043 - acc: 0.9999 - val_loss: 0.7744 - val_acc: 0.8542\n",
      "Epoch 13/20\n",
      "25000/25000 [==============================] - 3s 101us/step - loss: 0.0029 - acc: 1.0000 - val_loss: 0.8141 - val_acc: 0.8532\n",
      "Epoch 14/20\n",
      "25000/25000 [==============================] - 2s 93us/step - loss: 0.0020 - acc: 1.0000 - val_loss: 0.8441 - val_acc: 0.8527\n",
      "Epoch 15/20\n",
      "25000/25000 [==============================] - 2s 98us/step - loss: 0.0015 - acc: 1.0000 - val_loss: 0.8689 - val_acc: 0.8533\n",
      "Epoch 16/20\n",
      "25000/25000 [==============================] - 2s 86us/step - loss: 0.0012 - acc: 1.0000 - val_loss: 0.8919 - val_acc: 0.8531\n",
      "Epoch 17/20\n",
      "25000/25000 [==============================] - 2s 82us/step - loss: 9.2274e-04 - acc: 1.0000 - val_loss: 0.9125 - val_acc: 0.8531\n",
      "Epoch 18/20\n",
      "25000/25000 [==============================] - 2s 84us/step - loss: 7.4813e-04 - acc: 1.0000 - val_loss: 0.9311 - val_acc: 0.8533\n",
      "Epoch 19/20\n",
      "25000/25000 [==============================] - 2s 82us/step - loss: 6.1861e-04 - acc: 1.0000 - val_loss: 0.9460 - val_acc: 0.8531\n",
      "Epoch 20/20\n",
      "25000/25000 [==============================] - 2s 93us/step - loss: 5.1805e-04 - acc: 1.0000 - val_loss: 0.9599 - val_acc: 0.8532\n"
     ]
    }
   ],
   "source": [
    "hist_bigger = bigger_model.fit(x_train, y_train, batch_size = 512, epochs = 20, validation_data = (x_test, y_test))"
   ]
  },
  {
   "cell_type": "markdown",
   "metadata": {},
   "source": [
    "Let's see how the bigger network fares compared to the reference one. The dots are the validation loss values of the bigger network, and the crosses are the initial network."
   ]
  },
  {
   "cell_type": "markdown",
   "metadata": {},
   "source": [
    "** Compare the bigger model with the original one. Fill in the #TO DOs. **"
   ]
  },
  {
   "cell_type": "code",
   "execution_count": 25,
   "metadata": {},
   "outputs": [
    {
     "data": {
      "image/png": "[encoded data removed]",
      "text/plain": [
       "<Figure size 432x288 with 1 Axes>"
      ]
     },
     "metadata": {
      "needs_background": "light"
     },
     "output_type": "display_data"
    }
   ],
   "source": [
    "bigger_model_val_loss = hist_bigger.history['val_loss']#TO DO: take from the history dictionary of the bigger model the validation loss\n",
    "\n",
    "plt.plot(epochs,original_val_loss, 'b+', label='Original model') \n",
    "plt.plot(epochs, bigger_model_val_loss, 'bo', label='Bigger model') \n",
    "plt.xlabel('Epochs')\n",
    "plt.ylabel('Validation loss')\n",
    "plt.legend()\n",
    "\n",
    "plt.show()"
   ]
  },
  {
   "cell_type": "markdown",
   "metadata": {},
   "source": [
    "** Considerations: what can you conclude from these results? Which of the two network starts to overfitting later? How are their performances? **"
   ]
  },
  {
   "cell_type": "markdown",
   "metadata": {},
   "source": []
  },
  {
   "cell_type": "markdown",
   "metadata": {},
   "source": [
    "** Compare the training loss of the bigger model and of the original one. Fill in the #TO DOs.**"
   ]
  },
  {
   "cell_type": "code",
   "execution_count": null,
   "metadata": {},
   "outputs": [],
   "source": [
    "original_train_loss = hist_bigger.history['val_loss']#TO DO: take from the history dictionary of the original model the training loss\n",
    "bigger_model_train_loss = #TO DO: take from the history dictionary of the bigger model the training loss\n",
    "\n",
    "plt.plot(epochs, #TO DO: use the original model training loss, 'b+', label='Original model') \n",
    "plt.plot(epochs, #TO DO: use the bigger model training loss, 'bo', label='Bigger model') \n",
    "plt.xlabel('Epochs')\n",
    "plt.ylabel('Training loss')\n",
    "plt.legend()\n",
    "\n",
    "plt.show()"
   ]
  },
  {
   "cell_type": "markdown",
   "metadata": {},
   "source": [
    "** Considerations: what can you conclude from these results? How are their performances? **"
   ]
  },
  {
   "cell_type": "markdown",
   "metadata": {},
   "source": []
  },
  {
   "cell_type": "markdown",
   "metadata": {},
   "source": [
    "## Adding weight regularization\n",
    "Given some training data and a network architecture, there are multiple sets of weights values (multiple models) that could explain the data, and simpler models are less likely to overfit than complex ones.\n",
    "\n",
    "A \"simple model\" in this context is a model where the distribution of parameter values has less entropy (or a model with fewer parameters altogether, as we saw in the section above). Thus a common way to mitigate overfitting is to put constraints on the complexity of a network by forcing its weights to only take small values, which makes the distribution of weight values more \"regular\". This is called \"weight regularization\", and it is done by adding to the loss function of the network a cost associated with having large weights. This cost comes in two ways:\n",
    "\n",
    "- L1 regularization, where the cost added is proportional to the absolute value of the weights coefficients (i.e. to what is called the \"L1 norm\" of the weights).\n",
    "- L2 regularization, where the cost added is proportional to the square of the value of the weights coefficients (i.e. to what is called the \"L2 norm\" of the weights). \n",
    "\n",
    "In Keras, weight regularization is added by passing weight regularizer instances to layers as keyword arguments. Let's add L2 weight regularization to our movie review classification network."
   ]
  },
  {
   "cell_type": "markdown",
   "metadata": {},
   "source": [
    "** Consider your original network and add L2 regularizer and try out some regularization coefficient. **\n",
    "\n",
    "Example: L2 with 0.001 means that every coefficient in the weight matrix of the layer will add 0.001 * weight_coefficient_value to the total loss of the network. Note that because this penalty is only added at training time, the loss for this network will be much higher at training than at test time."
   ]
  },
  {
   "cell_type": "code",
   "execution_count": 28,
   "metadata": {},
   "outputs": [],
   "source": [
    "from keras import regularizers\n",
    "input_num_units = 16\n",
    "hidden_num_units = 16\n",
    "weight_model = models.Sequential()\n",
    "weight_model.add(layers.Dense(input_num_units, activation='relu', kernel_regularizer=regularizers.l2(0.001)))\n",
    "weight_model.add(layers.Dense(hidden_num_units, activation='relu', kernel_regularizer=regularizers.l2(0.001)))\n",
    "weight_model.add(layers.Dense(output_num_units, activation='sigmoid', kernel_regularizer=regularizers.l2(0.001)))\n",
    "\n"
   ]
  },
  {
   "cell_type": "markdown",
   "metadata": {},
   "source": [
    "** Compile the network. **"
   ]
  },
  {
   "cell_type": "code",
   "execution_count": 29,
   "metadata": {},
   "outputs": [],
   "source": [
    "weight_model.compile(optimizer='adam',\n",
    "                loss='binary_crossentropy',\n",
    "                metrics=['accuracy'])"
   ]
  },
  {
   "cell_type": "markdown",
   "metadata": {},
   "source": [
    "** Fit the model and check which impact your L2 regularizer has.**"
   ]
  },
  {
   "cell_type": "code",
   "execution_count": 30,
   "metadata": {},
   "outputs": [
    {
     "name": "stdout",
     "output_type": "stream",
     "text": [
      "Train on 25000 samples, validate on 25000 samples\n",
      "Epoch 1/20\n",
      "25000/25000 [==============================] - 3s 103us/step - loss: 0.5710 - acc: 0.7962 - val_loss: 0.4278 - val_acc: 0.8698\n",
      "Epoch 2/20\n",
      "25000/25000 [==============================] - 2s 80us/step - loss: 0.3408 - acc: 0.9003 - val_loss: 0.3460 - val_acc: 0.8875\n",
      "Epoch 3/20\n",
      "25000/25000 [==============================] - 2s 70us/step - loss: 0.2770 - acc: 0.9230 - val_loss: 0.3396 - val_acc: 0.8870\n",
      "Epoch 4/20\n",
      "25000/25000 [==============================] - 2s 88us/step - loss: 0.2497 - acc: 0.9336 - val_loss: 0.3460 - val_acc: 0.8849\n",
      "Epoch 5/20\n",
      "25000/25000 [==============================] - 2s 91us/step - loss: 0.2335 - acc: 0.9404 - val_loss: 0.3615 - val_acc: 0.8797\n",
      "Epoch 6/20\n",
      "25000/25000 [==============================] - 2s 92us/step - loss: 0.2205 - acc: 0.9457 - val_loss: 0.3687 - val_acc: 0.8788\n",
      "Epoch 7/20\n",
      "25000/25000 [==============================] - 2s 87us/step - loss: 0.2111 - acc: 0.9510 - val_loss: 0.3798 - val_acc: 0.8763\n",
      "Epoch 8/20\n",
      "25000/25000 [==============================] - 2s 83us/step - loss: 0.2043 - acc: 0.9534 - val_loss: 0.4094 - val_acc: 0.8695\n",
      "Epoch 9/20\n",
      "25000/25000 [==============================] - 2s 82us/step - loss: 0.1995 - acc: 0.9549 - val_loss: 0.4051 - val_acc: 0.8714\n",
      "Epoch 10/20\n",
      "25000/25000 [==============================] - 2s 77us/step - loss: 0.1928 - acc: 0.9580 - val_loss: 0.4173 - val_acc: 0.8713\n",
      "Epoch 11/20\n",
      "25000/25000 [==============================] - 2s 88us/step - loss: 0.1859 - acc: 0.9609 - val_loss: 0.4239 - val_acc: 0.8695\n",
      "Epoch 12/20\n",
      "25000/25000 [==============================] - 2s 89us/step - loss: 0.1788 - acc: 0.9664 - val_loss: 0.4342 - val_acc: 0.8688\n",
      "Epoch 13/20\n",
      "25000/25000 [==============================] - 2s 83us/step - loss: 0.1749 - acc: 0.9672 - val_loss: 0.4498 - val_acc: 0.8653\n",
      "Epoch 14/20\n",
      "25000/25000 [==============================] - 2s 88us/step - loss: 0.1704 - acc: 0.9694 - val_loss: 0.4574 - val_acc: 0.8651\n",
      "Epoch 15/20\n",
      "25000/25000 [==============================] - 2s 88us/step - loss: 0.1656 - acc: 0.9722 - val_loss: 0.4679 - val_acc: 0.8651\n",
      "Epoch 16/20\n",
      "25000/25000 [==============================] - 2s 92us/step - loss: 0.1605 - acc: 0.9733 - val_loss: 0.4761 - val_acc: 0.8641\n",
      "Epoch 17/20\n",
      "25000/25000 [==============================] - 2s 83us/step - loss: 0.1558 - acc: 0.9768 - val_loss: 0.4949 - val_acc: 0.8594\n",
      "Epoch 18/20\n",
      "25000/25000 [==============================] - 2s 85us/step - loss: 0.1561 - acc: 0.9750 - val_loss: 0.4983 - val_acc: 0.8601\n",
      "Epoch 19/20\n",
      "25000/25000 [==============================] - 2s 97us/step - loss: 0.1534 - acc: 0.9788 - val_loss: 0.5088 - val_acc: 0.8614\n",
      "Epoch 20/20\n",
      "25000/25000 [==============================] - 2s 85us/step - loss: 0.1478 - acc: 0.9812 - val_loss: 0.5235 - val_acc: 0.8583\n"
     ]
    }
   ],
   "source": [
    "hist_weight = weight_model.fit(x_train, y_train, batch_size = 512, epochs = 20, validation_data = (x_test, y_test))"
   ]
  },
  {
   "cell_type": "markdown",
   "metadata": {},
   "source": [
    "** Fill in the #TO DOs to see your results in the plot. **"
   ]
  },
  {
   "cell_type": "code",
   "execution_count": 31,
   "metadata": {},
   "outputs": [
    {
     "data": {
      "image/png": "[encoded data removed]",
      "text/plain": [
       "<Figure size 432x288 with 1 Axes>"
      ]
     },
     "metadata": {
      "needs_background": "light"
     },
     "output_type": "display_data"
    }
   ],
   "source": [
    "l2_model_val_loss = hist_weight.history['val_loss']#TO DO: take from the take from the history dictionary of the regularized model the validation loss\n",
    "\n",
    "plt.plot(epochs, original_val_loss, 'b+', label='Original model') \n",
    "plt.plot(epochs, l2_model_val_loss, 'bo', label='L2-regularized model') \n",
    "plt.xlabel('Epochs')\n",
    "plt.ylabel('Validation loss')\n",
    "plt.legend()\n",
    "\n",
    "plt.show()"
   ]
  },
  {
   "cell_type": "markdown",
   "metadata": {},
   "source": [
    "**Considerations: what can you conclude from the plot? What about the overfitting? **"
   ]
  },
  {
   "cell_type": "markdown",
   "metadata": {},
   "source": []
  },
  {
   "cell_type": "markdown",
   "metadata": {},
   "source": [
    "As alternatives to L2 regularization, you could use one of the following Keras weight regularizers.\n",
    "\n",
    "(NOTE: do not run the above cell, it is just an example.)"
   ]
  },
  {
   "cell_type": "code",
   "execution_count": null,
   "metadata": {},
   "outputs": [],
   "source": [
    "from keras import regularizers\n",
    "\n",
    "# L1 regularization\n",
    "regularizers.l1(0.001)\n",
    "\n",
    "# L1 and L2 regularization at the same time\n",
    "regularizers.l1_l2(l1=0.001, l2=0.001)"
   ]
  },
  {
   "cell_type": "markdown",
   "metadata": {},
   "source": [
    "## Adding dropout\n",
    "Dropout is one of the most effective and most commonly used regularization techniques for neural networks. Dropout, applied to a layer, consists of randomly \"dropping out\" (i.e. setting to zero) a number of output features of the layer during training. Let's say a given layer would normally have returned a vector [0.2, 0.5, 1.3, 0.8, 1.1] for a given input sample during training; after applying dropout, this vector will have a few zero entries distributed at random, e.g. [0, 0.5, 1.3, 0, 1.1]. The \"dropout rate\" is the fraction of the features that are being zeroed-out; it is usually set between 0.2 and 0.5. At test time, no units are dropped out, and instead the layer's output values are scaled down by a factor equal to the dropout rate, so as to balance for the fact that more units are active than at training time.\n",
    "\n",
    "Consider a Numpy matrix containing the output of a layer, layer_output, of shape (batch_size, features). At training time, we would be zero-ing out at random a fraction of the values in the matrix.\n",
    "\n",
    "(NOTE: do not run the 3 above cells, it is just an example.)"
   ]
  },
  {
   "cell_type": "code",
   "execution_count": 32,
   "metadata": {},
   "outputs": [
    {
     "name": "stdout",
     "output_type": "stream",
     "text": [
      "[512  10]\n"
     ]
    }
   ],
   "source": [
    "# At training time: we drop out 50% of the units in the output\n",
    "#layer_output *= np.randint(0, high=2, size=layer_output.shape)\n",
    "batch_size = 512\n",
    "features = 10\n",
    "layer_output = np.array([batch_size, features])\n",
    "print(layer_output)\n",
    "layer_output = np.random.randint(0, high=2, size=layer_output.shape)"
   ]
  },
  {
   "cell_type": "markdown",
   "metadata": {},
   "source": [
    "At test time, we would be scaling the output down by the dropout rate. Here we scale by 0.5 (because we were previous dropping half the units):"
   ]
  },
  {
   "cell_type": "code",
   "execution_count": 33,
   "metadata": {},
   "outputs": [],
   "source": [
    "# At test time:\n",
    "layer_output = layer_output*0.5"
   ]
  },
  {
   "cell_type": "markdown",
   "metadata": {},
   "source": [
    "Note that this process can be implemented by doing both operations at training time and leaving the output unchanged at test time, which is often the way it is implemented in practice:"
   ]
  },
  {
   "cell_type": "code",
   "execution_count": 34,
   "metadata": {},
   "outputs": [],
   "source": [
    "# At training time:\n",
    "layer_output *= np.random.randint(0, high=2, size=layer_output.shape)\n",
    "# Note that we are scaling *up* rather scaling *down* in this case\n",
    "layer_output /= 0.5"
   ]
  },
  {
   "cell_type": "markdown",
   "metadata": {},
   "source": [
    "The core idea is that introducing noise in the output values of a layer can break up happenstance patterns that are not significant (what Hinton refers to as \"conspiracies\"), which the network would start memorizing if no noise was present."
   ]
  },
  {
   "cell_type": "markdown",
   "metadata": {},
   "source": [
    "Let's add two Dropout layers in our IMDB network to see how well they do at reducing overfitting:"
   ]
  },
  {
   "cell_type": "markdown",
   "metadata": {},
   "source": [
    "** Add Dropout to the original network. Where should you add the `Dropout` layers? Check Keras documentation and try to understand. Try out different value for the dropout rate.**"
   ]
  },
  {
   "cell_type": "code",
   "execution_count": 43,
   "metadata": {},
   "outputs": [],
   "source": [
    "input_num_units = 16\n",
    "hidden_num_units = 16\n",
    "output_num_units = 1\n",
    "dropout_ratio = 0.5\n",
    "original_model_dropout = models.Sequential()\n",
    "original_model_dropout.add(layers.Dense(input_num_units, activation='relu'))\n",
    "original_model_dropout.add(layers.Dropout(dropout_ratio))\n",
    "original_model_dropout.add(layers.Dense(hidden_num_units, activation='relu'))\n",
    "original_model_dropout.add(layers.Dropout(dropout_ratio))\n",
    "original_model_dropout.add(layers.Dense(output_num_units, activation='sigmoid'))"
   ]
  },
  {
   "cell_type": "markdown",
   "metadata": {},
   "source": [
    "** Compile the model.**"
   ]
  },
  {
   "cell_type": "code",
   "execution_count": 44,
   "metadata": {},
   "outputs": [],
   "source": [
    "original_model_dropout.compile(optimizer='adam',\n",
    "                loss='binary_crossentropy',\n",
    "                metrics=['accuracy'])"
   ]
  },
  {
   "cell_type": "markdown",
   "metadata": {},
   "source": [
    "** Fit the model. **"
   ]
  },
  {
   "cell_type": "code",
   "execution_count": 45,
   "metadata": {},
   "outputs": [
    {
     "name": "stdout",
     "output_type": "stream",
     "text": [
      "Train on 25000 samples, validate on 25000 samples\n",
      "Epoch 1/20\n",
      "25000/25000 [==============================] - 2s 94us/step - loss: 0.6301 - acc: 0.6392 - val_loss: 0.5010 - val_acc: 0.8488\n",
      "Epoch 2/20\n",
      "25000/25000 [==============================] - 2s 90us/step - loss: 0.4711 - acc: 0.7908 - val_loss: 0.3514 - val_acc: 0.8806\n",
      "Epoch 3/20\n",
      "25000/25000 [==============================] - 2s 77us/step - loss: 0.3616 - acc: 0.8548 - val_loss: 0.2946 - val_acc: 0.8866\n",
      "Epoch 4/20\n",
      "25000/25000 [==============================] - 2s 61us/step - loss: 0.2976 - acc: 0.8850 - val_loss: 0.2747 - val_acc: 0.8881\n",
      "Epoch 5/20\n",
      "25000/25000 [==============================] - 2s 69us/step - loss: 0.2502 - acc: 0.9071 - val_loss: 0.2762 - val_acc: 0.8882\n",
      "Epoch 6/20\n",
      "25000/25000 [==============================] - 2s 74us/step - loss: 0.2186 - acc: 0.9222 - val_loss: 0.2935 - val_acc: 0.8827\n",
      "Epoch 7/20\n",
      "25000/25000 [==============================] - 2s 66us/step - loss: 0.1942 - acc: 0.9316 - val_loss: 0.2987 - val_acc: 0.8864\n",
      "Epoch 8/20\n",
      "25000/25000 [==============================] - 2s 69us/step - loss: 0.1711 - acc: 0.9388 - val_loss: 0.3097 - val_acc: 0.8848\n",
      "Epoch 9/20\n",
      "25000/25000 [==============================] - 2s 60us/step - loss: 0.1535 - acc: 0.9470 - val_loss: 0.3377 - val_acc: 0.8826\n",
      "Epoch 10/20\n",
      "25000/25000 [==============================] - 2s 66us/step - loss: 0.1357 - acc: 0.9504 - val_loss: 0.3586 - val_acc: 0.8806\n",
      "Epoch 11/20\n",
      "25000/25000 [==============================] - 2s 81us/step - loss: 0.1245 - acc: 0.9543 - val_loss: 0.3632 - val_acc: 0.8785\n",
      "Epoch 12/20\n",
      "25000/25000 [==============================] - 2s 86us/step - loss: 0.1139 - acc: 0.9573 - val_loss: 0.3981 - val_acc: 0.8792\n",
      "Epoch 13/20\n",
      "25000/25000 [==============================] - 2s 85us/step - loss: 0.1018 - acc: 0.9609 - val_loss: 0.4273 - val_acc: 0.8771\n",
      "Epoch 14/20\n",
      "25000/25000 [==============================] - 2s 65us/step - loss: 0.0944 - acc: 0.9625 - val_loss: 0.4492 - val_acc: 0.8763\n",
      "Epoch 15/20\n",
      "25000/25000 [==============================] - 2s 78us/step - loss: 0.0916 - acc: 0.9623 - val_loss: 0.4776 - val_acc: 0.8757\n",
      "Epoch 16/20\n",
      "25000/25000 [==============================] - 2s 80us/step - loss: 0.0841 - acc: 0.9650 - val_loss: 0.4874 - val_acc: 0.8759\n",
      "Epoch 17/20\n",
      "25000/25000 [==============================] - 1s 49us/step - loss: 0.0769 - acc: 0.9679 - val_loss: 0.5050 - val_acc: 0.8758\n",
      "Epoch 18/20\n",
      "25000/25000 [==============================] - 2s 76us/step - loss: 0.0770 - acc: 0.9665 - val_loss: 0.5189 - val_acc: 0.8748\n",
      "Epoch 19/20\n",
      "25000/25000 [==============================] - 2s 61us/step - loss: 0.0720 - acc: 0.9688 - val_loss: 0.5456 - val_acc: 0.8755\n",
      "Epoch 20/20\n",
      "25000/25000 [==============================] - 2s 87us/step - loss: 0.0700 - acc: 0.9694 - val_loss: 0.5711 - val_acc: 0.8760\n"
     ]
    }
   ],
   "source": [
    "hist_original_model_dropout = original_model_dropout.fit(x_train, y_train, batch_size = 512, epochs = 20, validation_data = (x_test, y_test))"
   ]
  },
  {
   "cell_type": "markdown",
   "metadata": {},
   "source": [
    "** Fill in the #TO DOs to plot the results.**"
   ]
  },
  {
   "cell_type": "code",
   "execution_count": 46,
   "metadata": {},
   "outputs": [
    {
     "data": {
      "image/png": "[encoded data removed]",
      "text/plain": [
       "<Figure size 432x288 with 1 Axes>"
      ]
     },
     "metadata": {
      "needs_background": "light"
     },
     "output_type": "display_data"
    }
   ],
   "source": [
    "dpt_model_val_loss = hist_original_model_dropout.history['val_loss']#TO DO: take from the history dictionary of the model with dropout the validation loss\n",
    "\n",
    "plt.plot(epochs, original_val_loss, 'b+', label='Original model') \n",
    "plt.plot(epochs, dpt_model_val_loss, 'bo', label='Dropout-regularized model') \n",
    "plt.xlabel('Epochs')\n",
    "plt.ylabel('Validation loss')\n",
    "plt.legend()\n",
    "\n",
    "plt.show()"
   ]
  },
  {
   "cell_type": "markdown",
   "metadata": {},
   "source": [
    "** Considerations: were you able to improve? **"
   ]
  },
  {
   "cell_type": "code",
   "execution_count": null,
   "metadata": {},
   "outputs": [],
   "source": []
  }
 ],
 "metadata": {
  "kernelspec": {
   "display_name": "Python 3",
   "language": "python",
   "name": "python3"
  }
 },
 "nbformat": 4,
 "nbformat_minor": 2
}
